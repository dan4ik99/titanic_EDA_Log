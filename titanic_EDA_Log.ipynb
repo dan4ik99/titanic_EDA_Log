{
 "cells": [
  {
   "cell_type": "code",
   "execution_count": 1,
   "id": "7ae05dac",
   "metadata": {},
   "outputs": [],
   "source": [
    "import pandas as pd\n",
    "import numpy as np\n",
    "from scipy import stats\n",
    "import seaborn as sns\n",
    "import matplotlib.pyplot as plt\n",
    "import statsmodels.formula.api as smf\n",
    "%matplotlib inline"
   ]
  },
  {
   "cell_type": "code",
   "execution_count": 2,
   "id": "77f02c74",
   "metadata": {},
   "outputs": [
    {
     "data": {
      "text/html": [
       "<div>\n",
       "<style scoped>\n",
       "    .dataframe tbody tr th:only-of-type {\n",
       "        vertical-align: middle;\n",
       "    }\n",
       "\n",
       "    .dataframe tbody tr th {\n",
       "        vertical-align: top;\n",
       "    }\n",
       "\n",
       "    .dataframe thead th {\n",
       "        text-align: right;\n",
       "    }\n",
       "</style>\n",
       "<table border=\"1\" class=\"dataframe\">\n",
       "  <thead>\n",
       "    <tr style=\"text-align: right;\">\n",
       "      <th></th>\n",
       "      <th>pclass</th>\n",
       "      <th>survived</th>\n",
       "      <th>name</th>\n",
       "      <th>sex</th>\n",
       "      <th>age</th>\n",
       "      <th>sibsp</th>\n",
       "      <th>parch</th>\n",
       "      <th>ticket</th>\n",
       "      <th>fare</th>\n",
       "      <th>cabin</th>\n",
       "      <th>embarked</th>\n",
       "      <th>boat</th>\n",
       "      <th>body</th>\n",
       "      <th>home.dest</th>\n",
       "    </tr>\n",
       "  </thead>\n",
       "  <tbody>\n",
       "    <tr>\n",
       "      <th>1305</th>\n",
       "      <td>3.0</td>\n",
       "      <td>0.0</td>\n",
       "      <td>Zabour, Miss. Thamine</td>\n",
       "      <td>female</td>\n",
       "      <td>NaN</td>\n",
       "      <td>1.0</td>\n",
       "      <td>0.0</td>\n",
       "      <td>2665</td>\n",
       "      <td>14.4542</td>\n",
       "      <td>NaN</td>\n",
       "      <td>C</td>\n",
       "      <td>NaN</td>\n",
       "      <td>NaN</td>\n",
       "      <td>NaN</td>\n",
       "    </tr>\n",
       "    <tr>\n",
       "      <th>1306</th>\n",
       "      <td>3.0</td>\n",
       "      <td>0.0</td>\n",
       "      <td>Zakarian, Mr. Mapriededer</td>\n",
       "      <td>male</td>\n",
       "      <td>26.5</td>\n",
       "      <td>0.0</td>\n",
       "      <td>0.0</td>\n",
       "      <td>2656</td>\n",
       "      <td>7.2250</td>\n",
       "      <td>NaN</td>\n",
       "      <td>C</td>\n",
       "      <td>NaN</td>\n",
       "      <td>304.0</td>\n",
       "      <td>NaN</td>\n",
       "    </tr>\n",
       "    <tr>\n",
       "      <th>1307</th>\n",
       "      <td>3.0</td>\n",
       "      <td>0.0</td>\n",
       "      <td>Zakarian, Mr. Ortin</td>\n",
       "      <td>male</td>\n",
       "      <td>27.0</td>\n",
       "      <td>0.0</td>\n",
       "      <td>0.0</td>\n",
       "      <td>2670</td>\n",
       "      <td>7.2250</td>\n",
       "      <td>NaN</td>\n",
       "      <td>C</td>\n",
       "      <td>NaN</td>\n",
       "      <td>NaN</td>\n",
       "      <td>NaN</td>\n",
       "    </tr>\n",
       "    <tr>\n",
       "      <th>1308</th>\n",
       "      <td>3.0</td>\n",
       "      <td>0.0</td>\n",
       "      <td>Zimmerman, Mr. Leo</td>\n",
       "      <td>male</td>\n",
       "      <td>29.0</td>\n",
       "      <td>0.0</td>\n",
       "      <td>0.0</td>\n",
       "      <td>315082</td>\n",
       "      <td>7.8750</td>\n",
       "      <td>NaN</td>\n",
       "      <td>S</td>\n",
       "      <td>NaN</td>\n",
       "      <td>NaN</td>\n",
       "      <td>NaN</td>\n",
       "    </tr>\n",
       "    <tr>\n",
       "      <th>1309</th>\n",
       "      <td>NaN</td>\n",
       "      <td>NaN</td>\n",
       "      <td>NaN</td>\n",
       "      <td>NaN</td>\n",
       "      <td>NaN</td>\n",
       "      <td>NaN</td>\n",
       "      <td>NaN</td>\n",
       "      <td>NaN</td>\n",
       "      <td>NaN</td>\n",
       "      <td>NaN</td>\n",
       "      <td>NaN</td>\n",
       "      <td>NaN</td>\n",
       "      <td>NaN</td>\n",
       "      <td>NaN</td>\n",
       "    </tr>\n",
       "  </tbody>\n",
       "</table>\n",
       "</div>"
      ],
      "text/plain": [
       "      pclass  survived                       name     sex   age  sibsp  parch  \\\n",
       "1305     3.0       0.0      Zabour, Miss. Thamine  female   NaN    1.0    0.0   \n",
       "1306     3.0       0.0  Zakarian, Mr. Mapriededer    male  26.5    0.0    0.0   \n",
       "1307     3.0       0.0        Zakarian, Mr. Ortin    male  27.0    0.0    0.0   \n",
       "1308     3.0       0.0         Zimmerman, Mr. Leo    male  29.0    0.0    0.0   \n",
       "1309     NaN       NaN                        NaN     NaN   NaN    NaN    NaN   \n",
       "\n",
       "      ticket     fare cabin embarked boat   body home.dest  \n",
       "1305    2665  14.4542   NaN        C  NaN    NaN       NaN  \n",
       "1306    2656   7.2250   NaN        C  NaN  304.0       NaN  \n",
       "1307    2670   7.2250   NaN        C  NaN    NaN       NaN  \n",
       "1308  315082   7.8750   NaN        S  NaN    NaN       NaN  \n",
       "1309     NaN      NaN   NaN      NaN  NaN    NaN       NaN  "
      ]
     },
     "execution_count": 2,
     "metadata": {},
     "output_type": "execute_result"
    }
   ],
   "source": [
    "df = pd.read_csv(r'C:\\Современные методы анализа данных\\titanic\\pusan_boat.csv', sep=',')\n",
    "df.tail()\n",
    "#Всего 1310 наблюдений. Присутствуют пропущенные значения, которые могут испортить результаты исследования"
   ]
  },
  {
   "cell_type": "code",
   "execution_count": 3,
   "id": "7205d911",
   "metadata": {},
   "outputs": [],
   "source": [
    "# Функция расчета количества и процента пропущенных значений\n",
    "def missing_values_table(df):\n",
    "        # Общее количество пропущенных значений\n",
    "        mis_val = df.isnull().sum()\n",
    "        \n",
    "        # Процент пропущенных значений\n",
    "        mis_val_percent = 100 * df.isnull().sum() / len(df)\n",
    "        \n",
    "        # Сводная таблица результатов\n",
    "        mis_val_table = pd.concat([mis_val, mis_val_percent], axis=1)\n",
    "        \n",
    "        # Переименование колонок\n",
    "        mis_val_table_ren_columns = mis_val_table.rename(\n",
    "        columns = {0 : 'Пропушенные значения', 1 : '% от общего числа значений'})\n",
    "        \n",
    "        # Сортировка таблицы по проценту отсутствующих значений (по убыванию) (таблица итогов)\n",
    "        mis_val_table_ren_columns = mis_val_table_ren_columns[\n",
    "            mis_val_table_ren_columns.iloc[:,1] != 0].sort_values(\n",
    "        '% от общего числа значений', ascending=False).round(1)\n",
    "        \n",
    "        # Вывод по итоговой таблице\n",
    "        print (\"Датафрейм содержит \" + str(df.shape[1]) + \" столбцов.\\n\"      \n",
    "            \"Существует \" + str(mis_val_table_ren_columns.shape[0]) +\n",
    "              \" столбов, в которых отсутствуют значения.\")\n",
    "\n",
    "        return mis_val_table_ren_columns"
   ]
  },
  {
   "cell_type": "code",
   "execution_count": 4,
   "id": "78c1f179",
   "metadata": {},
   "outputs": [
    {
     "name": "stdout",
     "output_type": "stream",
     "text": [
      "Датафрейм содержит 14 столбцов.\n",
      "Существует 14 столбов, в которых отсутствуют значения.\n"
     ]
    },
    {
     "data": {
      "text/html": [
       "<div>\n",
       "<style scoped>\n",
       "    .dataframe tbody tr th:only-of-type {\n",
       "        vertical-align: middle;\n",
       "    }\n",
       "\n",
       "    .dataframe tbody tr th {\n",
       "        vertical-align: top;\n",
       "    }\n",
       "\n",
       "    .dataframe thead th {\n",
       "        text-align: right;\n",
       "    }\n",
       "</style>\n",
       "<table border=\"1\" class=\"dataframe\">\n",
       "  <thead>\n",
       "    <tr style=\"text-align: right;\">\n",
       "      <th></th>\n",
       "      <th>Пропушенные значения</th>\n",
       "      <th>% от общего числа значений</th>\n",
       "    </tr>\n",
       "  </thead>\n",
       "  <tbody>\n",
       "    <tr>\n",
       "      <th>body</th>\n",
       "      <td>1189</td>\n",
       "      <td>90.8</td>\n",
       "    </tr>\n",
       "    <tr>\n",
       "      <th>cabin</th>\n",
       "      <td>1015</td>\n",
       "      <td>77.5</td>\n",
       "    </tr>\n",
       "    <tr>\n",
       "      <th>boat</th>\n",
       "      <td>824</td>\n",
       "      <td>62.9</td>\n",
       "    </tr>\n",
       "    <tr>\n",
       "      <th>home.dest</th>\n",
       "      <td>565</td>\n",
       "      <td>43.1</td>\n",
       "    </tr>\n",
       "    <tr>\n",
       "      <th>age</th>\n",
       "      <td>264</td>\n",
       "      <td>20.2</td>\n",
       "    </tr>\n",
       "    <tr>\n",
       "      <th>embarked</th>\n",
       "      <td>3</td>\n",
       "      <td>0.2</td>\n",
       "    </tr>\n",
       "    <tr>\n",
       "      <th>fare</th>\n",
       "      <td>2</td>\n",
       "      <td>0.2</td>\n",
       "    </tr>\n",
       "    <tr>\n",
       "      <th>pclass</th>\n",
       "      <td>1</td>\n",
       "      <td>0.1</td>\n",
       "    </tr>\n",
       "    <tr>\n",
       "      <th>survived</th>\n",
       "      <td>1</td>\n",
       "      <td>0.1</td>\n",
       "    </tr>\n",
       "    <tr>\n",
       "      <th>name</th>\n",
       "      <td>1</td>\n",
       "      <td>0.1</td>\n",
       "    </tr>\n",
       "    <tr>\n",
       "      <th>sex</th>\n",
       "      <td>1</td>\n",
       "      <td>0.1</td>\n",
       "    </tr>\n",
       "    <tr>\n",
       "      <th>sibsp</th>\n",
       "      <td>1</td>\n",
       "      <td>0.1</td>\n",
       "    </tr>\n",
       "    <tr>\n",
       "      <th>parch</th>\n",
       "      <td>1</td>\n",
       "      <td>0.1</td>\n",
       "    </tr>\n",
       "    <tr>\n",
       "      <th>ticket</th>\n",
       "      <td>1</td>\n",
       "      <td>0.1</td>\n",
       "    </tr>\n",
       "  </tbody>\n",
       "</table>\n",
       "</div>"
      ],
      "text/plain": [
       "           Пропушенные значения  % от общего числа значений\n",
       "body                       1189                        90.8\n",
       "cabin                      1015                        77.5\n",
       "boat                        824                        62.9\n",
       "home.dest                   565                        43.1\n",
       "age                         264                        20.2\n",
       "embarked                      3                         0.2\n",
       "fare                          2                         0.2\n",
       "pclass                        1                         0.1\n",
       "survived                      1                         0.1\n",
       "name                          1                         0.1\n",
       "sex                           1                         0.1\n",
       "sibsp                         1                         0.1\n",
       "parch                         1                         0.1\n",
       "ticket                        1                         0.1"
      ]
     },
     "execution_count": 4,
     "metadata": {},
     "output_type": "execute_result"
    }
   ],
   "source": [
    "missing_values_table(df)"
   ]
  },
  {
   "cell_type": "markdown",
   "id": "8a84bfb8",
   "metadata": {},
   "source": [
    "Столбцы body, cabin, boat, home.dest имеют большой процент пропущенных значений и не несут особо содержательной нагрузки для исследования. Удалим эти столбцы, а столбец age заменим средними значениями. Пропущенные значения из оставшейся группы столбцов удалим (такой маленький процент пропущенных значений при удалении не повлияет на результаты исследования)."
   ]
  },
  {
   "cell_type": "code",
   "execution_count": 5,
   "id": "0f3117b6",
   "metadata": {},
   "outputs": [],
   "source": [
    "df = df.drop(columns=['body', 'cabin', 'boat', 'home.dest']) #удаление указанных колонок"
   ]
  },
  {
   "cell_type": "code",
   "execution_count": 6,
   "id": "8afc9412",
   "metadata": {},
   "outputs": [
    {
     "data": {
      "text/plain": [
       "ShapiroResult(statistic=0.9795483946800232, pvalue=5.752113022006178e-11)"
      ]
     },
     "execution_count": 6,
     "metadata": {},
     "output_type": "execute_result"
    },
    {
     "data": {
      "image/png": "[encoded data removed]",
      "text/plain": [
       "<Figure size 432x288 with 1 Axes>"
      ]
     },
     "metadata": {
      "needs_background": "light"
     },
     "output_type": "display_data"
    }
   ],
   "source": [
    "#Распределение переменной возраст (отсутствуют пропущенные значения)\n",
    "df_age = np.array(df.age)\n",
    "df_age = df_age[~np.isnan(df_age)]\n",
    "plt.hist(df_age)\n",
    "plt.title('Распределение переменной возраст с отсутствующими None')\n",
    "plt.xlabel('возраст')\n",
    "plt.ylabel('частота')\n",
    "#Визуально распределения нельзя назвать нормальным.\n",
    "#Проверим также наше предположение с помощью Критерия Шапиро-Уилка (модуль stats, библиотека scipy)\n",
    "stats.shapiro(df_age)\n",
    "# pvalue < уровня значимости 0,05, а это значит что распределение отличается от нормального\n",
    "# Посмотрим как поведет себя распределение, если мы добавим на место пропущенных значений средние"
   ]
  },
  {
   "cell_type": "code",
   "execution_count": 7,
   "id": "2ae8cc52",
   "metadata": {},
   "outputs": [],
   "source": [
    "df['age'].fillna((df['age'].mean()), inplace=True) # заменили пропущенные значения средними в столбце age"
   ]
  },
  {
   "cell_type": "code",
   "execution_count": 8,
   "id": "40a22b9b",
   "metadata": {},
   "outputs": [
    {
     "data": {
      "text/plain": [
       "Text(0, 0.5, 'частота')"
      ]
     },
     "execution_count": 8,
     "metadata": {},
     "output_type": "execute_result"
    },
    {
     "data": {
      "image/png": "[encoded data removed]",
      "text/plain": [
       "<Figure size 432x288 with 1 Axes>"
      ]
     },
     "metadata": {
      "needs_background": "light"
     },
     "output_type": "display_data"
    }
   ],
   "source": [
    "df.age.hist() # Распределение вместе с добавленными средними.\n",
    "plt.title('Распределение вместе с добавленными средними.')\n",
    "plt.xlabel('возраст')\n",
    "plt.ylabel('частота')"
   ]
  },
  {
   "cell_type": "markdown",
   "id": "967f3194",
   "metadata": {},
   "source": [
    "Конечно, распределение по прежнему не является нормальным, но мы избавились от пропущенных значений. Процент пропущенных значений хоть и не является очень большим, но удаление этих значений всеравно может исказить результаты исследования"
   ]
  },
  {
   "cell_type": "code",
   "execution_count": 9,
   "id": "34f02c53",
   "metadata": {},
   "outputs": [],
   "source": [
    "df.dropna(inplace=True) #удалили оставшиеся пропущенные значения"
   ]
  },
  {
   "cell_type": "code",
   "execution_count": 10,
   "id": "f97f09b3",
   "metadata": {},
   "outputs": [
    {
     "name": "stdout",
     "output_type": "stream",
     "text": [
      "<class 'pandas.core.frame.DataFrame'>\n",
      "Int64Index: 1306 entries, 0 to 1308\n",
      "Data columns (total 10 columns):\n",
      " #   Column    Non-Null Count  Dtype  \n",
      "---  ------    --------------  -----  \n",
      " 0   pclass    1306 non-null   float64\n",
      " 1   survived  1306 non-null   float64\n",
      " 2   name      1306 non-null   object \n",
      " 3   sex       1306 non-null   object \n",
      " 4   age       1306 non-null   float64\n",
      " 5   sibsp     1306 non-null   float64\n",
      " 6   parch     1306 non-null   float64\n",
      " 7   ticket    1306 non-null   object \n",
      " 8   fare      1306 non-null   float64\n",
      " 9   embarked  1306 non-null   object \n",
      "dtypes: float64(6), object(4)\n",
      "memory usage: 112.2+ KB\n"
     ]
    }
   ],
   "source": [
    "# Пропущенных значений не осалось\n",
    "df.info()"
   ]
  },
  {
   "cell_type": "code",
   "execution_count": 11,
   "id": "16d34b5f",
   "metadata": {},
   "outputs": [
    {
     "data": {
      "text/plain": [
       "<AxesSubplot:xlabel='sex', ylabel='count'>"
      ]
     },
     "execution_count": 11,
     "metadata": {},
     "output_type": "execute_result"
    },
    {
     "data": {
      "image/png": "[encoded data removed]",
      "text/plain": [
       "<Figure size 432x288 with 1 Axes>"
      ]
     },
     "metadata": {
      "needs_background": "light"
     },
     "output_type": "display_data"
    }
   ],
   "source": [
    "#Посмотрим соотношение погибших и выживших в зависимости от пола\n",
    "sns.countplot(x = 'sex', hue = 'survived', data=df)\n",
    "#Выживших женщин больше чем мужчин"
   ]
  },
  {
   "cell_type": "code",
   "execution_count": 12,
   "id": "d0276349",
   "metadata": {},
   "outputs": [
    {
     "data": {
      "text/plain": [
       "<seaborn.axisgrid.FacetGrid at 0x219e61fae50>"
      ]
     },
     "execution_count": 12,
     "metadata": {},
     "output_type": "execute_result"
    },
    {
     "data": {
      "image/png": "[encoded data removed]",
      "text/plain": [
       "<Figure size 771.875x360 with 2 Axes>"
      ]
     },
     "metadata": {
      "needs_background": "light"
     },
     "output_type": "display_data"
    }
   ],
   "source": [
    "#Построим соотношение погибших и выживших по классам, и еще разделим по полу\n",
    "sns.catplot(x = 'pclass', hue = 'survived', col='sex', data=df, kind = 'count', height=5)\n",
    "# Можно заметить, что у женщин с увеличением класса увеличивается шанс выжить\n",
    "#У мужчин, чем выше класс, тем меньше умерших. Значения выживших пассажиров в зависимости от класса у мужчин имеют минимум во 2 классе."
   ]
  },
  {
   "cell_type": "code",
   "execution_count": 13,
   "id": "b1cab038",
   "metadata": {},
   "outputs": [
    {
     "name": "stdout",
     "output_type": "stream",
     "text": [
      "Средний возраст female 1.0 класса равен 36.300651265047264;\n",
      "Средний возраст male 1.0 класса равен 39.2854104265251;\n",
      "Средний возраст female 2.0 класса равен 27.566604750351743;\n",
      "Средний возраст male 2.0 класса равен 30.74437455357642;\n",
      "Средний возраст female 3.0 класса равен 24.465552355534307;\n",
      "Средний возраст male 3.0 класса равен 27.039058271930234;\n"
     ]
    }
   ],
   "source": [
    "# Посмотрим как отличается средний возраст пассажиров в зависимости от класса обслуживания\n",
    "for i in df['pclass'].unique():\n",
    "    for j in df['sex'].unique():\n",
    "        print('Средний возраст {} {} класса равен {};'.format(j, i, (df['age'][(df.pclass == i) & (df.sex == j)]).mean()))"
   ]
  },
  {
   "cell_type": "markdown",
   "id": "f54f8ca5",
   "metadata": {},
   "source": [
    "Заметно, что средний возраст людей 1 класса и среди мужчин и среди женщин больше чем у остальных классов. Это объясняется тем фактом, что билеты 1 класса могли купить более состоятельные граждане."
   ]
  },
  {
   "cell_type": "code",
   "execution_count": 14,
   "id": "ad61cfb8",
   "metadata": {},
   "outputs": [
    {
     "data": {
      "text/plain": [
       "<AxesSubplot:xlabel='new_column', ylabel='count'>"
      ]
     },
     "execution_count": 14,
     "metadata": {},
     "output_type": "execute_result"
    },
    {
     "data": {
      "image/png": "[encoded data removed]",
      "text/plain": [
       "<Figure size 432x288 with 1 Axes>"
      ]
     },
     "metadata": {
      "needs_background": "light"
     },
     "output_type": "display_data"
    }
   ],
   "source": [
    "#Посмотрим как факт выживания зависит от возраста пассажира\n",
    "# Условно разделим на молодой/не молодой по границе - 30 лет\n",
    "df['new_column'] = np.where(df.age <= 30, 'молодой', 'не молодой') #Создадим новую колонку в нашей таблице df\n",
    "\n",
    "sns.countplot(x = 'new_column', hue = 'survived', data=df)"
   ]
  },
  {
   "cell_type": "markdown",
   "id": "22240ab6",
   "metadata": {},
   "source": [
    "По графику заметно, что (условно) не молодые выживали чаще. \"Условно\", так как мы сами выбрали границу для разделения"
   ]
  },
  {
   "cell_type": "markdown",
   "id": "e0dd034d",
   "metadata": {},
   "source": [
    "### Логистическая регрессия"
   ]
  },
  {
   "cell_type": "code",
   "execution_count": 15,
   "id": "6a3be3cf",
   "metadata": {},
   "outputs": [],
   "source": [
    "# Создадим новую переменую и определим мужчин как 1, а женщин как 0\n",
    "# Переменная пол будет одним из предикторов и она не может быть качественной\n",
    "# Модель просто будет выдавать ошибку, если на место предикторов поставить качественную переменную\n",
    "df['col_sex'] = np.where(df['sex'] == 'female', 0, 1)"
   ]
  },
  {
   "cell_type": "markdown",
   "id": "0badcce8",
   "metadata": {},
   "source": [
    "Построим логистическую регрессию. Зависимой переменной будет являться факт выживаемости пассажира (выжил/не выжил). Независимыми переменными (предикторами) будут пол человека, его возраст, класс билета, стоимость билета."
   ]
  },
  {
   "cell_type": "code",
   "execution_count": 16,
   "id": "7ed17497",
   "metadata": {},
   "outputs": [
    {
     "name": "stdout",
     "output_type": "stream",
     "text": [
      "Optimization terminated successfully.\n",
      "         Current function value: 0.469606\n",
      "         Iterations 6\n"
     ]
    },
    {
     "data": {
      "text/html": [
       "<table class=\"simpletable\">\n",
       "<caption>Logit Regression Results</caption>\n",
       "<tr>\n",
       "  <th>Dep. Variable:</th>       <td>survived</td>     <th>  No. Observations:  </th>   <td>  1306</td>  \n",
       "</tr>\n",
       "<tr>\n",
       "  <th>Model:</th>                 <td>Logit</td>      <th>  Df Residuals:      </th>   <td>  1300</td>  \n",
       "</tr>\n",
       "<tr>\n",
       "  <th>Method:</th>                 <td>MLE</td>       <th>  Df Model:          </th>   <td>     5</td>  \n",
       "</tr>\n",
       "<tr>\n",
       "  <th>Date:</th>            <td>Sat, 30 Oct 2021</td> <th>  Pseudo R-squ.:     </th>   <td>0.2935</td>  \n",
       "</tr>\n",
       "<tr>\n",
       "  <th>Time:</th>                <td>13:10:18</td>     <th>  Log-Likelihood:    </th>  <td> -613.31</td> \n",
       "</tr>\n",
       "<tr>\n",
       "  <th>converged:</th>             <td>True</td>       <th>  LL-Null:           </th>  <td> -868.10</td> \n",
       "</tr>\n",
       "<tr>\n",
       "  <th>Covariance Type:</th>     <td>nonrobust</td>    <th>  LLR p-value:       </th> <td>6.768e-108</td>\n",
       "</tr>\n",
       "</table>\n",
       "<table class=\"simpletable\">\n",
       "<tr>\n",
       "        <td></td>           <th>coef</th>     <th>std err</th>      <th>z</th>      <th>P>|z|</th>  <th>[0.025</th>    <th>0.975]</th>  \n",
       "</tr>\n",
       "<tr>\n",
       "  <th>Intercept</th>     <td>    3.3007</td> <td>    0.340</td> <td>    9.708</td> <td> 0.000</td> <td>    2.634</td> <td>    3.967</td>\n",
       "</tr>\n",
       "<tr>\n",
       "  <th>col_sex[T.1]</th>  <td>   -2.4872</td> <td>    0.150</td> <td>  -16.606</td> <td> 0.000</td> <td>   -2.781</td> <td>   -2.194</td>\n",
       "</tr>\n",
       "<tr>\n",
       "  <th>pclass[T.2.0]</th> <td>   -1.1561</td> <td>    0.234</td> <td>   -4.937</td> <td> 0.000</td> <td>   -1.615</td> <td>   -0.697</td>\n",
       "</tr>\n",
       "<tr>\n",
       "  <th>pclass[T.3.0]</th> <td>   -2.1123</td> <td>    0.228</td> <td>   -9.272</td> <td> 0.000</td> <td>   -2.559</td> <td>   -1.666</td>\n",
       "</tr>\n",
       "<tr>\n",
       "  <th>age</th>           <td>   -0.0324</td> <td>    0.006</td> <td>   -5.310</td> <td> 0.000</td> <td>   -0.044</td> <td>   -0.020</td>\n",
       "</tr>\n",
       "<tr>\n",
       "  <th>fare</th>          <td>    0.0005</td> <td>    0.002</td> <td>    0.285</td> <td> 0.776</td> <td>   -0.003</td> <td>    0.004</td>\n",
       "</tr>\n",
       "</table>"
      ],
      "text/plain": [
       "<class 'statsmodels.iolib.summary.Summary'>\n",
       "\"\"\"\n",
       "                           Logit Regression Results                           \n",
       "==============================================================================\n",
       "Dep. Variable:               survived   No. Observations:                 1306\n",
       "Model:                          Logit   Df Residuals:                     1300\n",
       "Method:                           MLE   Df Model:                            5\n",
       "Date:                Sat, 30 Oct 2021   Pseudo R-squ.:                  0.2935\n",
       "Time:                        13:10:18   Log-Likelihood:                -613.31\n",
       "converged:                       True   LL-Null:                       -868.10\n",
       "Covariance Type:            nonrobust   LLR p-value:                6.768e-108\n",
       "=================================================================================\n",
       "                    coef    std err          z      P>|z|      [0.025      0.975]\n",
       "---------------------------------------------------------------------------------\n",
       "Intercept         3.3007      0.340      9.708      0.000       2.634       3.967\n",
       "col_sex[T.1]     -2.4872      0.150    -16.606      0.000      -2.781      -2.194\n",
       "pclass[T.2.0]    -1.1561      0.234     -4.937      0.000      -1.615      -0.697\n",
       "pclass[T.3.0]    -2.1123      0.228     -9.272      0.000      -2.559      -1.666\n",
       "age              -0.0324      0.006     -5.310      0.000      -0.044      -0.020\n",
       "fare              0.0005      0.002      0.285      0.776      -0.003       0.004\n",
       "=================================================================================\n",
       "\"\"\""
      ]
     },
     "execution_count": 16,
     "metadata": {},
     "output_type": "execute_result"
    }
   ],
   "source": [
    "#Переменные pclass и col_sex являются категориальными. Но сам Python это не понимает, поэтому обозначим это \"вручную\".\n",
    "df['pclass'] = df['pclass'].astype('category')\n",
    "df['col_sex'] = df['col_sex'].astype('category')\n",
    "\n",
    "result = smf.logit(formula = 'survived ~ col_sex + age + pclass  + fare', data = df).fit()\n",
    "result.summary()"
   ]
  },
  {
   "cell_type": "markdown",
   "id": "54b2412f",
   "metadata": {},
   "source": [
    "Показатель псевдо-R-квадрат равняется 0.2935. Это показывает, что модель объясняет приблизительно 30% отклонений. Конечно, модель получилась не сильно хорошая, но объяснения по ней сделать можно. \n",
    "\n",
    "Log-Likelihood в случае построения только 1 модели не несет никакой информации. Будет полезен только в случае построения и сравнения нескольких моделей. LL-null также используются для сравнения моделей и чем выше этот показатель тем лучше. LLR p-value < 0,05. Это говорит, что та модель, которую мы предположили, лучше чем отсуттвие модели вообще. Это аналог F-статистики для модели линейной регрессии.\n",
    "\n",
    "P значения коэффициентов показывают, что значимыми являются переменные кроме переменной fare. Скорее всего это произошло из-за корреляции между классом и ценой билета. Ведь с увеличением класса цена билета тоже увеличивается, а мультиколлинеарность(корреляция между зависимыми переменными) в моделях регрессии недопустима. Но если мы переменную fare выкинем, то наш R квадрат никак не изменется. Оставим, но не будем придавать ей никакого значения. "
   ]
  },
  {
   "cell_type": "code",
   "execution_count": 17,
   "id": "046ecbc0",
   "metadata": {},
   "outputs": [
    {
     "data": {
      "text/plain": [
       "array([[ 1.        , -0.55786103],\n",
       "       [-0.55786103,  1.        ]])"
      ]
     },
     "execution_count": 17,
     "metadata": {},
     "output_type": "execute_result"
    }
   ],
   "source": [
    "np.corrcoef(df.fare, df.pclass) # Корреляция между fare и pclass"
   ]
  },
  {
   "cell_type": "markdown",
   "id": "16009303",
   "metadata": {},
   "source": [
    "Statmodels так оценивает категориальные коэффициенты регрессии, что берет какую-то одну категорию среди кат. переменных и делает ее референтной. В моем случае референтными категориями являются женщины первого класса. Это показатель Intercept (свободный член регрессии). "
   ]
  },
  {
   "cell_type": "markdown",
   "id": "00e8646e",
   "metadata": {},
   "source": [
    "Выводы по модели:\n",
    "    \n",
    "1) За каждую еденицу возраста шансы выжить понижаются;\n",
    "\n",
    "2) col_sex[T.1] - логарифм отношения шансов для мужчин в первом классе и женщин в первом классе (Показатель говорит нам, что шансы выжить для мужчин в первом классе ниже чем у женщин в первом классе)\n",
    "\n",
    "3) pclass[T.2.0] - логарифм отношения шансов для женщин во 2 классе и женщин в первом классе (У женщин во 2 классе шансы выжить ниже по сравнению с женщинами в 1 классе)\n",
    "\n",
    "4) pclass[T.3.0] - логарифм отношения шансов для женщин в 3 классе и женщин в первом классе (У женщин в 3 классе шансы выжить ниже по сравнению с женщинами в 1 классе)"
   ]
  }
 ],
 "metadata": {
  "kernelspec": {
   "display_name": "Python 3 (ipykernel)",
   "language": "python",
   "name": "python3"
  },
  "language_info": {
   "codemirror_mode": {
    "name": "ipython",
    "version": 3
   },
   "file_extension": ".py",
   "mimetype": "text/x-python",
   "name": "python",
   "nbconvert_exporter": "python",
   "pygments_lexer": "ipython3",
   "version": "3.9.6"
  }
 },
 "nbformat": 4,
 "nbformat_minor": 5
}
